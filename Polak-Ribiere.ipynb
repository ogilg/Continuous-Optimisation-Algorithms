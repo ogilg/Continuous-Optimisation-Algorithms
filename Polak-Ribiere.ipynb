{
 "cells": [
  {
   "cell_type": "markdown",
   "metadata": {},
   "source": [
    "# Polak Ribiere Gradient Descent"
   ]
  },
  {
   "cell_type": "markdown",
   "metadata": {},
   "source": [
    "Variation with a slightly different update to gradient descent, convergence is similar though."
   ]
  },
  {
   "cell_type": "code",
   "execution_count": 3,
   "metadata": {},
   "outputs": [],
   "source": [
    "import matplotlib.pyplot as plt\n",
    "import autograd.numpy as np\n",
    "from autograd import jacobian\n",
    "from autograd import elementwise_grad"
   ]
  },
  {
   "cell_type": "code",
   "execution_count": 4,
   "metadata": {},
   "outputs": [],
   "source": [
    "#takes a numpy array\n",
    "def f(x):\n",
    "    return np.array([np.exp(x[0])+np.exp((-1)*x[0]+4.) + x[1]**2])\n",
    "    #return (x-7)*(x-3)"
   ]
  },
  {
   "cell_type": "code",
   "execution_count": 18,
   "metadata": {},
   "outputs": [],
   "source": [
    "def MSE(y,x):\n",
    "    return np.linalg.norm(y-x)"
   ]
  },
  {
   "cell_type": "code",
   "execution_count": 47,
   "metadata": {},
   "outputs": [],
   "source": [
    "# general class of linesearch iterative methods for continuous optimisation\n",
    "class LineSearch:\n",
    "    \n",
    "    def __init__(self,direction_func,backtracking,step):\n",
    "        self.direction = direction_func\n",
    "        self.backtracking = backtracking\n",
    "        self.step = step\n",
    "        \n",
    "        self.sigma = 0.1\n",
    "        self.tol = 0.00000001\n",
    "        self.rho = 1/2\n",
    "        \n",
    "    \n",
    "    def Armijo_test(self,f,x,step,direction):\n",
    "        a = f(x+step*direction)\n",
    "        b = f(x) - self.sigma*step*np.dot(direction,direction)\n",
    "        return (a < b).all()\n",
    "    \n",
    "    #starts from previous step and finds suitable step length by testing for the Armijo condition\n",
    "    def find_step(self,f,x,step,direction):\n",
    "        iters =0\n",
    "        \n",
    "        while not self.Armijo_test(f,x,step,direction):\n",
    "            step = self.rho * step\n",
    "            iters +=1\n",
    "            if iters > 10000:\n",
    "                return None\n",
    "        return step\n",
    "        \n",
    "    #minimise f from starting point x\n",
    "    def find_minimum(self,f,x):\n",
    "        #executes steps until convergence\n",
    "        prev_x = 10*10*10\n",
    "        iters = 0\n",
    "        step = self.step\n",
    "        \n",
    "        grad = elementwise_grad(f)(x)\n",
    "        #set initial direction to steepest descent\n",
    "        direction = np.negative(grad)\n",
    "        \n",
    "        \n",
    "        while np.linalg.norm(x-prev_x) > self.tol:\n",
    "            \n",
    "            prev_grad = grad\n",
    "            grad = elementwise_grad(f)(x)\n",
    "            direction = self.direction(f,x,direction,grad,prev_grad)\n",
    "            \n",
    "            if self.backtracking :\n",
    "                step = self.find_step(f,x,step,direction)\n",
    "            if step == None:\n",
    "                print(\"step not found\")\n",
    "                break\n",
    "            \n",
    "            prev_x = x\n",
    "            \n",
    "            #we use previous direction to compute the next\n",
    "            \n",
    "            x = x + step*direction\n",
    "            \n",
    "            if iters > 10000:\n",
    "                print(\"iteration limit reached\")\n",
    "                return\n",
    "            else:\n",
    "                #if iters % 10 == 0:\n",
    "                print(\"progress\")\n",
    "                print(x)\n",
    "                print(f(x))\n",
    "                print()\n",
    "                iters +=1\n",
    "        print(\"converged in %d iterations to\" %iters)\n",
    "        print(\"x value :\", x)\n",
    "        print(\"out : \", f(x))"
   ]
  },
  {
   "cell_type": "code",
   "execution_count": 48,
   "metadata": {},
   "outputs": [],
   "source": [
    "# ||| x float |||\n",
    "def polak_ribiere(f,x,prev_dir,g,prev_g):\n",
    "    conjugate_g = np.dot((g-prev_g).T,g)/np.dot(prev_g,prev_g)\n",
    "    new_g = np.negative(g) + np.dot(prev_dir,conjugate_g)\n",
    "    return new_g"
   ]
  },
  {
   "cell_type": "code",
   "execution_count": 49,
   "metadata": {},
   "outputs": [],
   "source": [
    "polak_ribiere = LineSearch(polak_ribiere,step = 100.,backtracking=True)"
   ]
  },
  {
   "cell_type": "code",
   "execution_count": 50,
   "metadata": {},
   "outputs": [
    {
     "name": "stdout",
     "output_type": "stream",
     "text": [
      "progress\n",
      "[ 1.         10.52121907 15.75788956 20.99456004 26.23123053 31.46790102\n",
      " 36.70457151 41.94124199 47.17791248 52.41458297]\n",
      "110.05713508471928\n",
      "\n",
      "progress\n",
      "[  1.          20.04243814  30.51577911  40.98912009  51.46246106\n",
      "  61.93580204  72.40914301  82.88248399  93.35582496 103.82916594]\n",
      "10.057135084719286\n",
      "\n",
      "progress\n",
      "[  1.          21.23259052  32.36051531  43.48844009  54.61636488\n",
      "  65.74428966  76.87221445  88.00013924  99.12806402 110.25598881]\n",
      "2.4428649152807083\n",
      "\n",
      "step not found\n",
      "converged in 3 iterations to\n",
      "x value : [  1.          21.23259052  32.36051531  43.48844009  54.61636488\n",
      "  65.74428966  76.87221445  88.00013924  99.12806402 110.25598881]\n",
      "out :  2.4428649152807083\n"
     ]
    }
   ],
   "source": [
    "\n",
    "start = np.ones(10)\n",
    "y = np.array([1.,21.,32.,43.,54.,65.,76.,87.,98.,109.])\n",
    "def MSE_y(x):\n",
    "    return MSE(y,x)\n",
    "polak_ribiere.find_minimum(MSE_y,start)"
   ]
  },
  {
   "cell_type": "code",
   "execution_count": 62,
   "metadata": {},
   "outputs": [],
   "source": [
    "g = elementwise_grad(f)"
   ]
  },
  {
   "cell_type": "code",
   "execution_count": 63,
   "metadata": {},
   "outputs": [
    {
     "data": {
      "text/plain": [
       "[array(8.), array(0.)]"
      ]
     },
     "execution_count": 63,
     "metadata": {},
     "output_type": "execute_result"
    }
   ],
   "source": [
    "g([2.,3.])"
   ]
  },
  {
   "cell_type": "code",
   "execution_count": 120,
   "metadata": {},
   "outputs": [
    {
     "data": {
      "text/plain": [
       "array([ 0.,  1.,  4.,  9., 16., 25., 36., 49., 64., 81.])"
      ]
     },
     "execution_count": 120,
     "metadata": {},
     "output_type": "execute_result"
    }
   ],
   "source": [
    "MSE(y,start)"
   ]
  },
  {
   "cell_type": "code",
   "execution_count": null,
   "metadata": {},
   "outputs": [],
   "source": []
  }
 ],
 "metadata": {
  "kernelspec": {
   "display_name": "Python 3",
   "language": "python",
   "name": "python3"
  },
  "language_info": {
   "codemirror_mode": {
    "name": "ipython",
    "version": 3
   },
   "file_extension": ".py",
   "mimetype": "text/x-python",
   "name": "python",
   "nbconvert_exporter": "python",
   "pygments_lexer": "ipython3",
   "version": "3.7.6"
  }
 },
 "nbformat": 4,
 "nbformat_minor": 4
}
