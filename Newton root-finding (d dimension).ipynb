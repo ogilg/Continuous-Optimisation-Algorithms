{
 "cells": [
  {
   "cell_type": "code",
   "execution_count": 1,
   "metadata": {},
   "outputs": [],
   "source": [
    "import matplotlib.pyplot as plt\n",
    "import autograd.numpy as np\n",
    "from autograd import jacobian"
   ]
  },
  {
   "cell_type": "code",
   "execution_count": 30,
   "metadata": {},
   "outputs": [],
   "source": [
    "#takes a numpy array\n",
    "def f(x):\n",
    "    return np.array([(x[0]*x[1]*x[1]-162),x[0]-2*x[1]])"
   ]
  },
  {
   "cell_type": "code",
   "execution_count": 18,
   "metadata": {},
   "outputs": [],
   "source": [
    "tol = 0.00000001"
   ]
  },
  {
   "cell_type": "code",
   "execution_count": 19,
   "metadata": {},
   "outputs": [],
   "source": [
    "def Newton_step(f,jac,x):\n",
    "    inv = np.linalg.inv(jac(x))\n",
    "    return x - np.dot(inv,f(x))"
   ]
  },
  {
   "cell_type": "code",
   "execution_count": 20,
   "metadata": {},
   "outputs": [],
   "source": [
    "def newton(f,a):\n",
    "    jac = jacobian(f)\n",
    "    iters = 0\n",
    "    while np.linalg.norm(f(a)) >= tol:\n",
    "        old_a = a\n",
    "        a = Newton_step(f,jac,a)\n",
    "        \n",
    "        if iters > 10000:\n",
    "            print(\"iteration limit reached\")\n",
    "            return\n",
    "        else:\n",
    "            iters +=1\n",
    "            \n",
    "    print(\"converged in %d iterations to\" %iters)\n",
    "    print(a)"
   ]
  },
  {
   "cell_type": "code",
   "execution_count": 31,
   "metadata": {},
   "outputs": [
    {
     "name": "stdout",
     "output_type": "stream",
     "text": [
      "converged in 5 iterations to\n",
      "[8.65349742 4.32674871]\n"
     ]
    }
   ],
   "source": [
    "newton(f,np.array([2.,4.]))"
   ]
  },
  {
   "cell_type": "code",
   "execution_count": null,
   "metadata": {},
   "outputs": [],
   "source": []
  }
 ],
 "metadata": {
  "kernelspec": {
   "display_name": "Python 3",
   "language": "python",
   "name": "python3"
  },
  "language_info": {
   "codemirror_mode": {
    "name": "ipython",
    "version": 3
   },
   "file_extension": ".py",
   "mimetype": "text/x-python",
   "name": "python",
   "nbconvert_exporter": "python",
   "pygments_lexer": "ipython3",
   "version": "3.7.6"
  }
 },
 "nbformat": 4,
 "nbformat_minor": 4
}
